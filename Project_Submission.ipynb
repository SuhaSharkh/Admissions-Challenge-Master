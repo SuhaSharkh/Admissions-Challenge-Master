{
  "cells": [
    {
      "cell_type": "markdown",
      "id": "ed175a82",
      "metadata": {
        "id": "ed175a82"
      },
      "source": [
        "# Project Submission\n",
        "\n",
        "**Please use this notebook for your submission.**\n",
        "\n",
        "Make sure to fill out all the required fields and to answer all the questions.\n",
        "\n",
        "At the end of this project, you will have answered the following questions:\n",
        "\n",
        "1. What is the average number of goals for the home team?\n",
        "2. What is the average number of goals for the away team?\n",
        "3. What is the country with the highest overall home score?\n",
        "4. What are the top 3 type of tournaments?\n",
        "5. Which country has the highest overall FIFA World Cup goals?\n",
        "\n",
        "\n",
        "**Submission Requirements:**\n",
        "\n",
        "- Make sure that you run all cells with code in your notebook before submitting.\n",
        "- You can add additional cells of code if you want, but make sure to clean up your notebook, and only leave the code required to answer the questions."
      ]
    },
    {
      "cell_type": "markdown",
      "id": "43e336b8",
      "metadata": {
        "id": "43e336b8"
      },
      "source": [
        "## Step 1: Getting Started\n",
        "\n",
        "You will mainly work with a Python library called Pandas. Pandas is a powerful library that allows us to manipulate data. In order to use Pandas, you first have to import it."
      ]
    },
    {
      "cell_type": "code",
      "execution_count": 22,
      "id": "3033fd44",
      "metadata": {
        "id": "3033fd44"
      },
      "outputs": [],
      "source": [
        "import pandas as pd"
      ]
    },
    {
      "cell_type": "markdown",
      "id": "f7e3b7f7",
      "metadata": {
        "id": "f7e3b7f7"
      },
      "source": [
        "## Step 2: Loading and Exporing the Data\n",
        "\n",
        "You can use Pandas to explore and manipulate the _results.csv_ file.\n",
        "You first have to load the csv file into a Pandas dataframe, so you can then analyize the data.\n",
        "\n",
        "When using `pd.read_csv()`, make sure you inlcude the correct path to the csv file, depending on where you saved it when you downloaded it."
      ]
    },
    {
      "cell_type": "code",
      "execution_count": 23,
      "id": "2c9de780",
      "metadata": {
        "id": "2c9de780"
      },
      "outputs": [],
      "source": [
        "# First: Load the csv file into a Pandas dataframe (df)\n",
        "\n",
        "df = pd.read_csv('results.csv')\n"
      ]
    },
    {
      "cell_type": "code",
      "execution_count": 24,
      "id": "bb2a11f0",
      "metadata": {
        "colab": {
          "base_uri": "https://localhost:8080/"
        },
        "id": "bb2a11f0",
        "outputId": "437a1330-4b94-4490-8733-c72c1e41825c"
      },
      "outputs": [
        {
          "output_type": "stream",
          "name": "stdout",
          "text": [
            "<class 'pandas.core.frame.DataFrame'>\n",
            "RangeIndex: 45315 entries, 0 to 45314\n",
            "Data columns (total 9 columns):\n",
            " #   Column      Non-Null Count  Dtype \n",
            "---  ------      --------------  ----- \n",
            " 0   date        45315 non-null  object\n",
            " 1   home_team   45315 non-null  object\n",
            " 2   away_team   45315 non-null  object\n",
            " 3   home_score  45315 non-null  int64 \n",
            " 4   away_score  45315 non-null  int64 \n",
            " 5   tournament  45315 non-null  object\n",
            " 6   city        45315 non-null  object\n",
            " 7   country     45315 non-null  object\n",
            " 8   neutral     45315 non-null  bool  \n",
            "dtypes: bool(1), int64(2), object(6)\n",
            "memory usage: 2.8+ MB\n"
          ]
        }
      ],
      "source": [
        "# Explore the df\n",
        "\n",
        "df.info()"
      ]
    },
    {
      "cell_type": "markdown",
      "id": "6a2aa881",
      "metadata": {
        "id": "6a2aa881"
      },
      "source": [
        "## Step 3: Data Analysis"
      ]
    },
    {
      "cell_type": "markdown",
      "id": "98b9d5dd",
      "metadata": {
        "id": "98b9d5dd"
      },
      "source": [
        "### Q1: What is the average number of goals for the home team?\n",
        "\n",
        "Hint: You can call the `mean()` method on the _'home_score'_ column."
      ]
    },
    {
      "cell_type": "code",
      "execution_count": 25,
      "id": "c2c5b5ea",
      "metadata": {
        "id": "c2c5b5ea",
        "colab": {
          "base_uri": "https://localhost:8080/"
        },
        "outputId": "394e2652-c7e3-467b-fcc6-f60ac57bf06b"
      },
      "outputs": [
        {
          "output_type": "stream",
          "name": "stdout",
          "text": [
            "Mean home score: 1.7393136930376256\n"
          ]
        }
      ],
      "source": [
        "mean_home_score = df['home_score'].mean()\n",
        "print(\"Mean home score:\", mean_home_score)\n",
        "\n"
      ]
    },
    {
      "cell_type": "markdown",
      "id": "ce194e01",
      "metadata": {
        "id": "ce194e01"
      },
      "source": [
        "### Q2: What is the average number of goals for the away team?\n",
        "\n",
        "Hint: You can call the `mean()` method on the _'away_score'_ column."
      ]
    },
    {
      "cell_type": "code",
      "execution_count": 26,
      "id": "4fb43467",
      "metadata": {
        "id": "4fb43467",
        "colab": {
          "base_uri": "https://localhost:8080/"
        },
        "outputId": "d9d218e6-1d9f-44ab-ebd2-2e004dcdc934"
      },
      "outputs": [
        {
          "output_type": "stream",
          "name": "stdout",
          "text": [
            "Mean away score: 1.1782412004854905\n"
          ]
        }
      ],
      "source": [
        "mean_away_score = df ['away_score'].mean()\n",
        "print(\"Mean away score:\",mean_away_score)\n",
        "\n"
      ]
    },
    {
      "cell_type": "markdown",
      "id": "c6044d75",
      "metadata": {
        "id": "c6044d75"
      },
      "source": [
        "### Q3: What is the country with the highest overall home score?\n",
        "\n",
        "Hint: You will need to group the data by country, then get the sum of home scores for each country. You can use the `idxmax()` function to find the index(country) with the highest sum."
      ]
    },
    {
      "cell_type": "code",
      "execution_count": 27,
      "id": "e5d93b04",
      "metadata": {
        "id": "e5d93b04",
        "colab": {
          "base_uri": "https://localhost:8080/"
        },
        "outputId": "77bf10f8-c88e-4b13-b993-49adf76d8936"
      },
      "outputs": [
        {
          "output_type": "stream",
          "name": "stdout",
          "text": [
            "Country with the highest overall home score: United States\n"
          ]
        }
      ],
      "source": [
        "# Group the data by country and calculate the sum of home scores for each country\n",
        "home_scores_by_country = df.groupby('country')['home_score'].sum()\n",
        "\n",
        "# Find the index (country) with the highest sum of home scores\n",
        "country_with_highest_home_score = home_scores_by_country.idxmax()\n",
        "\n",
        "print(\"Country with the highest overall home score:\", country_with_highest_home_score)\n",
        "\n"
      ]
    },
    {
      "cell_type": "markdown",
      "id": "47e0f275",
      "metadata": {
        "id": "47e0f275"
      },
      "source": [
        "### Q4: What are the top 3 type of tournaments?\n",
        "\n",
        "Hint: You can use the `value_counts()` method to count the occurences of each unique value in the _'tournament'_ column."
      ]
    },
    {
      "cell_type": "code",
      "execution_count": 28,
      "id": "2d65e4e3",
      "metadata": {
        "id": "2d65e4e3",
        "colab": {
          "base_uri": "https://localhost:8080/"
        },
        "outputId": "1c6074e9-a8be-41da-9f9a-93ec7f729f54"
      },
      "outputs": [
        {
          "output_type": "stream",
          "name": "stdout",
          "text": [
            "Top 3 types of tournaments: Friendly                        17773\n",
            "FIFA World Cup qualification     8016\n",
            "UEFA Euro qualification          2815\n",
            "Name: tournament, dtype: int64\n"
          ]
        }
      ],
      "source": [
        "# Use value_counts() method to count the occurrences of each unique tournament type\n",
        "tournament_counts = df['tournament'].value_counts()\n",
        "\n",
        "# Select the top 3 types of tournaments\n",
        "top_3_tournaments = tournament_counts.head(3)\n",
        "\n",
        "print(\"Top 3 types of tournaments:\",top_3_tournaments)\n",
        "\n"
      ]
    },
    {
      "cell_type": "markdown",
      "id": "0bdc8158",
      "metadata": {
        "id": "0bdc8158"
      },
      "source": [
        "### Q5: Which country has the highest overall FIFA World Cup goals?\n",
        "\n",
        "To answer this question, consider breaking down your solution into 3 steps.\n",
        "\n",
        "**5.1 Create a new dataframe (fifa_df) that only contains rows where the \"tournament\" column == 'FIFA World Cup'.**"
      ]
    },
    {
      "cell_type": "code",
      "execution_count": 29,
      "id": "db30530c",
      "metadata": {
        "id": "db30530c"
      },
      "outputs": [],
      "source": [
        "fifa_df = df[df['tournament'] == 'FIFA World Cup']\n",
        "\n"
      ]
    },
    {
      "cell_type": "markdown",
      "id": "c06b0011",
      "metadata": {
        "id": "c06b0011"
      },
      "source": [
        "**5.2 In your new fifa_df, create a new _'total_score'_ column that sums _'home_score'_ + _'away_score'_ for each row.**\n",
        "\n",
        "PS. If you get a \"SettingWithCopyWarning\", please ignore it."
      ]
    },
    {
      "cell_type": "code",
      "execution_count": 30,
      "id": "8dd33359",
      "metadata": {
        "id": "8dd33359",
        "colab": {
          "base_uri": "https://localhost:8080/"
        },
        "outputId": "e5875410-5ef5-47aa-83eb-b4e4019683fe"
      },
      "outputs": [
        {
          "output_type": "stream",
          "name": "stderr",
          "text": [
            "<ipython-input-30-61855d33a0bb>:1: SettingWithCopyWarning: \n",
            "A value is trying to be set on a copy of a slice from a DataFrame.\n",
            "Try using .loc[row_indexer,col_indexer] = value instead\n",
            "\n",
            "See the caveats in the documentation: https://pandas.pydata.org/pandas-docs/stable/user_guide/indexing.html#returning-a-view-versus-a-copy\n",
            "  fifa_df['total_score'] = fifa_df['home_score'] + fifa_df['away_score']\n"
          ]
        }
      ],
      "source": [
        "fifa_df['total_score'] = fifa_df['home_score'] + fifa_df['away_score']\n",
        "\n"
      ]
    },
    {
      "cell_type": "markdown",
      "id": "9b7d48d2",
      "metadata": {
        "id": "9b7d48d2"
      },
      "source": [
        "**5.3 Group your data by country, then get the sum of the _'total_score'_ column. From there, you can use `idxmax()` to find the country with the highest _'total_score'_.**"
      ]
    },
    {
      "cell_type": "code",
      "execution_count": 31,
      "id": "682c7a8a",
      "metadata": {
        "id": "682c7a8a",
        "colab": {
          "base_uri": "https://localhost:8080/"
        },
        "outputId": "1ba1ea70-206c-4c7f-8c8e-941247b0cb8f"
      },
      "outputs": [
        {
          "output_type": "stream",
          "name": "stdout",
          "text": [
            "Country with the highest overall FIFA World Cup goals: Brazil\n"
          ]
        }
      ],
      "source": [
        "fifa_total_score_by_country = fifa_df.groupby('country')['total_score'].sum()\n",
        "country_with_highest_fifa_total_score = fifa_total_score_by_country.idxmax()\n",
        "\n",
        "print(\"Country with the highest overall FIFA World Cup goals:\", country_with_highest_fifa_total_score)\n",
        "\n"
      ]
    }
  ],
  "metadata": {
    "kernelspec": {
      "display_name": "Python 3 (ipykernel)",
      "language": "python",
      "name": "python3"
    },
    "language_info": {
      "codemirror_mode": {
        "name": "ipython",
        "version": 3
      },
      "file_extension": ".py",
      "mimetype": "text/x-python",
      "name": "python",
      "nbconvert_exporter": "python",
      "pygments_lexer": "ipython3",
      "version": "3.11.5"
    },
    "colab": {
      "provenance": []
    }
  },
  "nbformat": 4,
  "nbformat_minor": 5
}